{
 "cells": [
  {
   "cell_type": "code",
   "execution_count": 1,
   "id": "5533bbdb-0534-4c3c-8ae3-4eb4b9dc9cb0",
   "metadata": {},
   "outputs": [],
   "source": [
    "import numpy as np\n",
    "import random\n",
    "from structures import *\n",
    "import matplotlib.pyplot as plt"
   ]
  },
  {
   "cell_type": "markdown",
   "id": "fbfa52d4",
   "metadata": {},
   "source": [
    "todo is:\n",
    "1. simulate checking out ebikes (i wrote it into in the classes, just needed to add to the simulation) ✅\n",
    "2. add reservations (same thing – it’s already in the classes)  ✅\n",
    "3. simulate time delays from transferring video\n",
    "4. simulate ebike conversion\n",
    "5. run some simulations and plot them!"
   ]
  },
  {
   "cell_type": "code",
   "execution_count": 14,
   "id": "284f0f4d-bbe2-4f28-be0e-89b35ae2bad3",
   "metadata": {},
   "outputs": [],
   "source": [
    "TIMESTEPS = 60    # 1 timestep = 5 min\n",
    "N_STATIONS = 12\n",
    "DOCKS_PER_STATION = 10\n",
    "INIT_BIKES_PER_STATION = 8\n",
    "RESERVATION_LIMIT = 5\n",
    "\n",
    "RIDE_DENSITY_AVG = 10\n",
    "RIDE_DENSITY_STD = 2\n",
    "RIDE_LEN_AVG = 4\n",
    "RIDE_LEN_STD = 3\n",
    "\n",
    "WANT_EBIKE_PROB = 0.3\n",
    "\n",
    "RESERVATION_DENSITY_AVG = 5\n",
    "RESERVATION_DENSITY_STD = 2\n",
    "\n",
    "\n",
    "def create_stations():\n",
    "    stations = []\n",
    "    for station in range(N_STATIONS):\n",
    "        # currently no EBIKES\n",
    "        stations.append(Station(DOCKS_PER_STATION,\n",
    "                                int(INIT_BIKES_PER_STATION*(1-WANT_EBIKE_PROB)),\n",
    "                                int(INIT_BIKES_PER_STATION*WANT_EBIKE_PROB),\n",
    "                                RESERVATION_LIMIT))\n",
    "    return stations\n",
    "\n",
    "def count_failed_reservations(stations):\n",
    "    \"\"\"\n",
    "    Counts the number of failed reservations for a given timestep\n",
    "    \"\"\"\n",
    "    n_reservations = sample_norm_int(RESERVATION_DENSITY_AVG, RESERVATION_DENSITY_STD, 0)\n",
    "    count = 0\n",
    "    for _ in range(n_reservations):\n",
    "        station = random.choice(stations)\n",
    "        bike_type = \"SBIKE\" if random.random() > WANT_EBIKE_PROB else \"EBIKE\"\n",
    "        if not station.reserve_bike(bike_type):\n",
    "            count += 1\n",
    "    return count\n",
    "\n",
    "\n",
    "def start_rides(stations, time, current_rides):\n",
    "    \"\"\"\n",
    "    Start new rides for a given timestep and return the number of failed checkouts\n",
    "\n",
    "    Update the current_rides list with the new rides\n",
    "    \"\"\"\n",
    "    n_rides_started = sample_norm_int(RIDE_DENSITY_AVG, RIDE_DENSITY_STD, 0)\n",
    "    count_fails = 0\n",
    "    count_ebikes_conversions = 0\n",
    "    for _ in range(n_rides_started):\n",
    "        # choose ride attributes\n",
    "        start = random.choice(stations)\n",
    "        destination = random.choice(stations)\n",
    "        length = sample_norm_int(RIDE_LEN_AVG, RIDE_LEN_STD, 1)\n",
    "\n",
    "        # choose bike type that user wants to check out\n",
    "        desired_btype = \"SBIKE\" if random.random() > WANT_EBIKE_PROB else \"EBIKE\"\n",
    "\n",
    "        if start.check_out(desired_btype, can_convert_ebikes=True):\n",
    "            # checkout successful\n",
    "            new_ride = Ride(start, destination, time, length)\n",
    "            current_rides.append(new_ride)\n",
    "\n",
    "        # if checking out SBIKE fails we should try to check out an EBIKE\n",
    "        elif start.check_out(desired_btype, can_convert_ebikes=True):\n",
    "            new_ride = Ride(start, destination, time, length)\n",
    "            current_rides.append(new_ride)\n",
    "            count_ebikes_conversions += 1\n",
    "        else:\n",
    "            # no bikes available\n",
    "            count_fails += 1\n",
    "    return count_fails, count_ebikes_conversions\n",
    "\n",
    "\n",
    "def run_simulation():\n",
    "    rides_log = [0]\n",
    "    failed_checkout_log = [0]\n",
    "    failed_dock_log = [0]\n",
    "    failed_reservation_log = [0]\n",
    "    ebike_conversion_log = [0]\n",
    "    \n",
    "    stations = create_stations()\n",
    "    current_rides = []\n",
    "    \n",
    "    # run simulation!\n",
    "    for time in range(TIMESTEPS):\n",
    "        n_dock_fails = 0\n",
    "        n_reservation_fails = 0\n",
    "        \n",
    "        n_checkout_fails, n_ebikes_conversions = start_rides(stations, time, current_rides)\n",
    "\n",
    "        n_reservation_fails = count_failed_reservations(stations)\n",
    "        \n",
    "        # check for rides finishing\n",
    "        updated_current_rides = []\n",
    "        for ride in current_rides:\n",
    "            if ride.start_time + ride.length <= time:   # check if they're done riding\n",
    "                if ride.destination.return_bike(\"SBIKE\"):  # try to return bike\n",
    "                    # return successful\n",
    "                    pass\n",
    "                else:\n",
    "                    # return failed\n",
    "                    updated_current_rides.append(ride)\n",
    "                    n_dock_fails += 1\n",
    "            else:\n",
    "                updated_current_rides.append(ride)\n",
    "    \n",
    "        rides_log.append(len(current_rides))\n",
    "        failed_checkout_log.append(n_checkout_fails)\n",
    "        failed_dock_log.append(n_dock_fails)\n",
    "        failed_reservation_log.append(n_reservation_fails)\n",
    "        ebike_conversion_log.append(n_ebikes_conversions)\n",
    "\n",
    "        current_rides = updated_current_rides\n",
    "\n",
    "    return rides_log, failed_checkout_log, failed_dock_log, failed_reservation_log, ebike_conversion_log\n",
    "\n",
    "\n",
    "rides, checkout_fails, dock_fails, reserve_fails, ebike_conversions = run_simulation()"
   ]
  },
  {
   "cell_type": "code",
   "execution_count": 15,
   "id": "a5cde8a5-d4d2-4766-96c9-936df1680e17",
   "metadata": {},
   "outputs": [
    {
     "data": {
      "text/plain": [
       "<matplotlib.legend.Legend at 0x1273db250>"
      ]
     },
     "execution_count": 15,
     "metadata": {},
     "output_type": "execute_result"
    },
    {
     "data": {
      "image/png": "[encoded data removed]",
      "text/plain": [
       "<Figure size 432x288 with 1 Axes>"
      ]
     },
     "metadata": {
      "needs_background": "light"
     },
     "output_type": "display_data"
    }
   ],
   "source": [
    "plt.plot(rides, label=\"Rides\")\n",
    "plt.plot(checkout_fails, label=\"Failed checkouts\")\n",
    "plt.plot(dock_fails, label=\"Failed docks\")\n",
    "plt.plot(reserve_fails, label=\"Failed reservations\")\n",
    "plt.plot(ebike_conversions, label=\"EBIKE conversions\")\n",
    "plt.legend()"
   ]
  }
 ],
 "metadata": {
  "kernelspec": {
   "display_name": "Python 3 (ipykernel)",
   "language": "python",
   "name": "python3"
  },
  "language_info": {
   "codemirror_mode": {
    "name": "ipython",
    "version": 3
   },
   "file_extension": ".py",
   "mimetype": "text/x-python",
   "name": "python",
   "nbconvert_exporter": "python",
   "pygments_lexer": "ipython3",
   "version": "3.9.12"
  }
 },
 "nbformat": 4,
 "nbformat_minor": 5
}
