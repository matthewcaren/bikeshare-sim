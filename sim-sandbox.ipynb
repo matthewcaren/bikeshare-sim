{
 "cells": [
  {
   "cell_type": "code",
   "execution_count": null,
   "id": "5533bbdb-0534-4c3c-8ae3-4eb4b9dc9cb0",
   "metadata": {},
   "outputs": [],
   "source": [
    "import numpy as np\n",
    "import random\n",
    "from structures import *"
   ]
  },
  {
   "cell_type": "code",
   "execution_count": null,
   "id": "284f0f4d-bbe2-4f28-be0e-89b35ae2bad3",
   "metadata": {},
   "outputs": [],
   "source": [
    "TIMESTEPS = 60    # 1 timestep = 5 min\n",
    "N_STATIONS = 10\n",
    "DOCKS_PER_STATION = 10\n",
    "INIT_BIKES_PER_STATION = 5\n",
    "RESERVATION_LIMIT = 5\n",
    "\n",
    "RIDE_DENSITY_AVG = 10\n",
    "RIDE_DENSITY_STD = 2\n",
    "RIDE_LEN_AVG = 4\n",
    "RIDE_LEN_STD = 3\n",
    "\n",
    "stations = []\n",
    "current_rides = []\n",
    "\n",
    "\n",
    "# create stations\n",
    "for station in range(N_STATIONS):\n",
    "    # currently no EBIKES\n",
    "    stations.append(Station(DOCKS_PER_STATION,\n",
    "                            INIT_BIKES_PER_STATION,\n",
    "                            0,\n",
    "                            RESERVATION_LIMIT))\n",
    "\n",
    "\n",
    "# run simulation!\n",
    "for time in range(TIMESTEPS):\n",
    "    # start new rides\n",
    "    n_rides_started = sample_norm_int(RIDE_DENSITY_AVG, RIDE_DENSITY_STD, 0)\n",
    "    for _ in range(n_rides_started):\n",
    "        start = random.choice(stations)\n",
    "        destination = random.choice(stations)\n",
    "        length = sample_norm_int(RIDE_LEN_AVG, RIDE_LEN_STD, 1)\n",
    "\n",
    "        # try to check out bike\n",
    "        if start_station.check_out(\"SBIKE\"):\n",
    "            new_ride = Ride(start, destination, time, length)\n",
    "            current_rides.append(new_ride)\n",
    "        else:\n",
    "            print(\"NO BIKES AVAILABLE\")\n",
    "\n",
    "    \n",
    "    # check for rides finishing\n",
    "    updated_current_rides = []\n",
    "    for ride in current_rides:\n",
    "        if ride.start_time + ride.length >= time:   # check if they're done riding\n",
    "            if ride.destination.return_bike(\"SBIKE\"):  # try to return bike\n",
    "                print(\"finished ride:\", ride)\n",
    "            else:\n",
    "                print(\"tried to finish ride but couldn't!\", ride)\n",
    "                updated_current_rides.append(ride)\n",
    "        else:\n",
    "            updated_current_rides.append(ride)\n",
    "\n",
    "    current_rides = updated_current_rides\n",
    "\n",
    "    \n",
    "    print(\"At time\", time, \"there are\", len(current_rides), \"in progress\\n\")"
   ]
  }
 ],
 "metadata": {
  "kernelspec": {
   "display_name": "Python 3 (ipykernel)",
   "language": "python",
   "name": "python3"
  },
  "language_info": {
   "codemirror_mode": {
    "name": "ipython",
    "version": 3
   },
   "file_extension": ".py",
   "mimetype": "text/x-python",
   "name": "python",
   "nbconvert_exporter": "python",
   "pygments_lexer": "ipython3",
   "version": "3.11.5"
  }
 },
 "nbformat": 4,
 "nbformat_minor": 5
}
